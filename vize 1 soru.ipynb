{
 "cells": [
  {
   "cell_type": "code",
   "execution_count": 1,
   "id": "6f5fb79c-7525-49ef-990e-e9a3866ca02d",
   "metadata": {},
   "outputs": [],
   "source": [
    "import math"
   ]
  },
  {
   "cell_type": "code",
   "execution_count": 2,
   "id": "eeeb82d3-8d45-4753-9b00-acf03b19718f",
   "metadata": {},
   "outputs": [],
   "source": [
    "g = 10\n",
    "hedef_mesafe = 20000\n",
    "hedef_genislik = 1000\n",
    "top_yukseklik = 8\n",
    "aci_rad = math.radians(30)"
   ]
  },
  {
   "cell_type": "code",
   "execution_count": 3,
   "id": "4beb720f-648d-4501-a5b5-019c61887f85",
   "metadata": {},
   "outputs": [],
   "source": [
    "def hedefi_vurabilme_hizi():\n",
    "    \"\"\"Hedefi vurabilmek için gereken hızı bulma fonksiyonu.\"\"\"\n",
    "    h_min = 330\n",
    "    h_max = 1800\n",
    "    atis_sayisi = 1\n",
    "\n",
    "    while True:\n",
    "        hiz = (h_min + h_max) / 2\n",
    "\n",
    "\n",
    "        V0x = hiz * math.cos(aci_rad)\n",
    "        V0y = hiz * math.sin(aci_rad)\n",
    "\n",
    "\n",
    "        Tu = (2 * V0y) / g\n",
    "        X_menzil = V0x * Tu\n",
    "\n",
    "\n",
    "        if X_menzil < hedef_mesafe - hedef_genislik / 2:\n",
    "            print(\"Uzağına düştü\")\n",
    "            h_min = hiz\n",
    "        elif X_menzil > hedef_mesafe + hedef_genislik / 2:\n",
    "            print(\"Önüne düştü\")\n",
    "            h_max = hiz\n",
    "        else:\n",
    "            print(f\"Hedefi vurdun\")\n",
    "            break\n",
    "\n",
    "        atis_sayisi += 1\n",
    "\n",
    "    return hiz, atis_sayisi\n",
    "    "
   ]
  },
  {
   "cell_type": "code",
   "execution_count": 4,
   "id": "06aec816-ef05-49d9-9084-aa36b6d942db",
   "metadata": {},
   "outputs": [
    {
     "name": "stdout",
     "output_type": "stream",
     "text": [
      "Önüne düştü\n",
      "Önüne düştü\n",
      "Önüne düştü\n",
      "Uzağına düştü\n",
      "Uzağına düştü\n",
      "Önüne düştü\n",
      "Hedefi vurdun\n",
      "7. seferde vuruş gerçekleşmiştir. Hedefi vurmak için gereken hız: 479.296875 m/s\n",
      "Vuruş koordinatı: (19894.81 m, 8.00 m)\n"
     ]
    }
   ],
   "source": [
    "def vurus_koordinati(hiz):\n",
    "    \"\"\"Hedefi vurduğumuzda topun iniş koordinatlarını hesapla.\"\"\"\n",
    "    V0x = hiz * math.cos(aci_rad)\n",
    "    V0y = hiz * math.sin(aci_rad)\n",
    "\n",
    "\n",
    "    Tu = (2 * V0y) / g\n",
    "\n",
    "\n",
    "    X_inis = V0x * Tu\n",
    "    Y_inis = top_yukseklik + (V0y * Tu) - (0.5 * g * Tu**2)\n",
    "\n",
    "    return X_inis, Y_inis\n",
    "\n",
    "\n",
    "gereken_hiz, atis_sayisi = hedefi_vurabilme_hizi()\n",
    "print(f\"{atis_sayisi}. seferde vuruş gerçekleşmiştir. Hedefi vurmak için gereken hız: {gereken_hiz} m/s\")\n",
    "\n",
    "\n",
    "X, Y = vurus_koordinati(gereken_hiz)\n",
    "print(f\"Vuruş koordinatı: ({X:.2f} m, {Y:.2f} m)\")"
   ]
  }
 ],
 "metadata": {
  "kernelspec": {
   "display_name": "Python 3 (ipykernel)",
   "language": "python",
   "name": "python3"
  },
  "language_info": {
   "codemirror_mode": {
    "name": "ipython",
    "version": 3
   },
   "file_extension": ".py",
   "mimetype": "text/x-python",
   "name": "python",
   "nbconvert_exporter": "python",
   "pygments_lexer": "ipython3",
   "version": "3.11.7"
  }
 },
 "nbformat": 4,
 "nbformat_minor": 5
}
